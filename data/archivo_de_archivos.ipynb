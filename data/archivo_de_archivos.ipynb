{
 "cells": [
  {
   "cell_type": "code",
   "execution_count": null,
   "metadata": {},
   "outputs": [],
   "source": [
    "import pandas as pd\n",
    "import numpy as np\n",
    "import pickle\n",
    "import os"
   ]
  },
  {
   "cell_type": "code",
   "execution_count": null,
   "metadata": {},
   "outputs": [],
   "source": [
    "ubicacion = os.getcwd()\n",
    "ubicacion"
   ]
  },
  {
   "cell_type": "code",
   "execution_count": null,
   "metadata": {},
   "outputs": [],
   "source": [
    "archivo_txt = pd.read_csv( \"archivo_txt.csv\")\n",
    "archivo_txt"
   ]
  },
  {
   "cell_type": "code",
   "execution_count": null,
   "metadata": {},
   "outputs": [],
   "source": [
    "archivo_xml = pd.read_csv( \"archivo_xml.csv\")\n",
    "archivo_xml"
   ]
  },
  {
   "cell_type": "code",
   "execution_count": null,
   "metadata": {},
   "outputs": [],
   "source": [
    "data_remaning_kaggle = pd.read_csv( \"data_remaning_kaggle.csv\")\n",
    "data_remaning_kaggle"
   ]
  },
  {
   "cell_type": "code",
   "execution_count": null,
   "metadata": {},
   "outputs": [],
   "source": [
    "exported_db_data = pd.read_csv( \"exported_db_data.csv\")\n",
    "exported_db_data"
   ]
  },
  {
   "cell_type": "code",
   "execution_count": null,
   "metadata": {},
   "outputs": [],
   "source": [
    "archivo_txt.info()"
   ]
  },
  {
   "cell_type": "code",
   "execution_count": null,
   "metadata": {},
   "outputs": [],
   "source": [
    "archivo_xml.info()"
   ]
  },
  {
   "cell_type": "code",
   "execution_count": null,
   "metadata": {},
   "outputs": [],
   "source": [
    "data_remaning_kaggle.info()"
   ]
  },
  {
   "cell_type": "code",
   "execution_count": null,
   "metadata": {},
   "outputs": [],
   "source": [
    "exported_db_data.info()"
   ]
  },
  {
   "attachments": {},
   "cell_type": "markdown",
   "metadata": {},
   "source": [
    "--------------------------------"
   ]
  },
  {
   "cell_type": "code",
   "execution_count": 46,
   "metadata": {},
   "outputs": [
    {
     "data": {
      "text/plain": [
       "Index(['Unnamed: 0', 'index', 'Q3', 'Q4', 'Q5', 'Q6', 'Q8', 'Q11', 'Q13',\n",
       "       'Q15', 'Q20', 'Q21', 'Q22', 'Q23', 'Q25', 'Q26', 'Q33', 'Q35', 'Q41',\n",
       "       'Q7', 'Q9', 'Q12', 'Q14', 'Q16', 'Q17', 'Q24', 'Q32', 'Q34'],\n",
       "      dtype='object')"
      ]
     },
     "execution_count": 46,
     "metadata": {},
     "output_type": "execute_result"
    }
   ],
   "source": [
    "columnas_data_txt_clean = archivo_txt.columns\n",
    "columnas_data_txt_clean"
   ]
  },
  {
   "cell_type": "code",
   "execution_count": 47,
   "metadata": {},
   "outputs": [
    {
     "data": {
      "text/plain": [
       "Index(['Unnamed: 0', 'level_0', 'index', 'time', 'age', 'gender'], dtype='object')"
      ]
     },
     "execution_count": 47,
     "metadata": {},
     "output_type": "execute_result"
    }
   ],
   "source": [
    "columnas_archivo_xml_clean = archivo_xml.columns\n",
    "columnas_archivo_xml_clean"
   ]
  },
  {
   "cell_type": "code",
   "execution_count": 48,
   "metadata": {},
   "outputs": [
    {
     "data": {
      "text/plain": [
       "Index(['Unnamed: 0', 'index', 'Q18_Part_1', 'Q18_Part_2', 'Q18_Part_3',\n",
       "       'Q18_Part_4', 'Q18_Part_5', 'Q18_Part_6', 'Q18_OTHER', 'Q19_Part_1',\n",
       "       ...\n",
       "       'Q38_B_Part_3', 'Q38_B_Part_4', 'Q38_B_Part_5', 'Q38_B_Part_6',\n",
       "       'Q38_B_Part_7', 'Q38_B_Part_8', 'Q38_B_Part_9', 'Q38_B_Part_10',\n",
       "       'Q38_B_Part_11', 'Q38_B_OTHER'],\n",
       "      dtype='object', length=214)"
      ]
     },
     "execution_count": 48,
     "metadata": {},
     "output_type": "execute_result"
    }
   ],
   "source": [
    "columnas_data_remaning_kaggle = data_remaning_kaggle.columns\n",
    "columnas_data_remaning_kaggle"
   ]
  },
  {
   "cell_type": "code",
   "execution_count": 49,
   "metadata": {},
   "outputs": [
    {
     "data": {
      "text/plain": [
       "Index(['index', 'Q10_Part_1', 'Q10_Part_2', 'Q10_Part_3', 'Q10_Part_4',\n",
       "       'Q10_Part_5', 'Q10_Part_6', 'Q10_Part_7', 'Q10_Part_8', 'Q10_Part_9',\n",
       "       'Q10_Part_10', 'Q10_Part_11', 'Q10_Part_12', 'Q10_Part_13',\n",
       "       'Q10_Part_14', 'Q10_Part_15', 'Q10_Part_16', 'Q10_OTHER'],\n",
       "      dtype='object')"
      ]
     },
     "execution_count": 49,
     "metadata": {},
     "output_type": "execute_result"
    }
   ],
   "source": [
    "columnas_exported_db_data = exported_db_data.columns\n",
    "columnas_exported_db_data"
   ]
  },
  {
   "attachments": {},
   "cell_type": "markdown",
   "metadata": {},
   "source": [
    "-------------------------------------------"
   ]
  },
  {
   "cell_type": "code",
   "execution_count": null,
   "metadata": {},
   "outputs": [],
   "source": [
    "#1\n",
    "columnas_data_txt_clean = np.array (archivo_txt.columns)\n",
    "columnas_data_txt_clean"
   ]
  },
  {
   "cell_type": "code",
   "execution_count": null,
   "metadata": {},
   "outputs": [],
   "source": [
    "#2\n",
    "columnas_archivo_xml_clean = np.array (archivo_xml.columns)\n",
    "columnas_archivo_xml_clean"
   ]
  },
  {
   "cell_type": "code",
   "execution_count": null,
   "metadata": {},
   "outputs": [],
   "source": [
    "#3\n",
    "columnas_data_remaning_kaggle = np.array (data_remaning_kaggle.columns)\n",
    "columnas_data_remaning_kaggle"
   ]
  },
  {
   "cell_type": "code",
   "execution_count": null,
   "metadata": {},
   "outputs": [],
   "source": [
    "#4\n",
    "columnas_exported_db_data = np.array (exported_db_data.columns)\n",
    "columnas_exported_db_data"
   ]
  },
  {
   "cell_type": "code",
   "execution_count": null,
   "metadata": {},
   "outputs": [],
   "source": [
    "#combinacion 1,2\n",
    "np.intersect1d (columnas_data_txt_clean, columnas_archivo_xml_clean)"
   ]
  },
  {
   "cell_type": "code",
   "execution_count": null,
   "metadata": {},
   "outputs": [],
   "source": [
    "#combinacion 1,3\n",
    "np.intersect1d (columnas_data_txt_clean, columnas_data_remaning_kaggle)"
   ]
  },
  {
   "cell_type": "code",
   "execution_count": null,
   "metadata": {},
   "outputs": [],
   "source": [
    "#combinacion 1,4\n",
    "np.intersect1d (columnas_data_txt_clean, columnas_exported_db_data)"
   ]
  },
  {
   "cell_type": "code",
   "execution_count": null,
   "metadata": {},
   "outputs": [],
   "source": [
    "#combinacion 2,3\n",
    "np.intersect1d (columnas_archivo_xml_clean, columnas_data_remaning_kaggle)"
   ]
  },
  {
   "cell_type": "code",
   "execution_count": null,
   "metadata": {},
   "outputs": [],
   "source": [
    "#combinacion 2,4\n",
    "np.intersect1d (columnas_archivo_xml_clean, columnas_exported_db_data)"
   ]
  },
  {
   "cell_type": "code",
   "execution_count": null,
   "metadata": {},
   "outputs": [],
   "source": [
    "np.intersect1d (columnas_data_remaning_kaggle, columnas_exported_db_data)"
   ]
  },
  {
   "cell_type": "code",
   "execution_count": null,
   "metadata": {},
   "outputs": [],
   "source": [
    "# 1 archivo_xml\n",
    "# 2 archivo_txt\n",
    "# 3 data_remaning_kaggle\n",
    "# 4 exported_db_data"
   ]
  },
  {
   "cell_type": "code",
   "execution_count": null,
   "metadata": {},
   "outputs": [],
   "source": [
    "comb_1_2 = archivo_xml.merge(archivo_txt, how = 'inner', on = ['index','Unnamed: 0'])\n",
    "#comb_1_2.head()\n",
    "#comb_1_2.columns"
   ]
  },
  {
   "cell_type": "code",
   "execution_count": null,
   "metadata": {},
   "outputs": [],
   "source": [
    "comb_1_2_3 = comb_1_2.merge(data_remaning_kaggle,how = 'inner', on = ['index','Unnamed: 0'])\n",
    "#comb_1_2_3.head()\n",
    "#comb_1_2_3.columns"
   ]
  },
  {
   "cell_type": "code",
   "execution_count": null,
   "metadata": {},
   "outputs": [],
   "source": [
    "comb_1_2_3_4 = comb_1_2_3.merge(exported_db_data,how = 'inner', on = ['index'])\n",
    "#comb_1_2_3_4.head()\n",
    "#comb_1_2_3_4.columns"
   ]
  },
  {
   "cell_type": "code",
   "execution_count": null,
   "metadata": {},
   "outputs": [],
   "source": [
    "archivo_total = comb_1_2_3_4.copy()"
   ]
  },
  {
   "cell_type": "code",
   "execution_count": null,
   "metadata": {},
   "outputs": [],
   "source": [
    "archivo_total.to_csv(\"archivo_total.csv\")"
   ]
  },
  {
   "cell_type": "markdown",
   "metadata": {},
   "source": [
    "----------------------------------------------------------------------------------"
   ]
  },
  {
   "cell_type": "markdown",
   "metadata": {},
   "source": [
    "* Trabajamos en el fichero"
   ]
  },
  {
   "cell_type": "code",
   "execution_count": null,
   "metadata": {},
   "outputs": [],
   "source": [
    "archivo_trabajo_copia = archivo_total.copy()"
   ]
  },
  {
   "cell_type": "code",
   "execution_count": null,
   "metadata": {},
   "outputs": [],
   "source": [
    "archivo_trabajo_copia.shape"
   ]
  },
  {
   "cell_type": "code",
   "execution_count": null,
   "metadata": {},
   "outputs": [],
   "source": [
    "archivo_trabajo_copia.info(null_counts=True)"
   ]
  },
  {
   "cell_type": "code",
   "execution_count": null,
   "metadata": {},
   "outputs": [],
   "source": [
    "archivo_trabajo_copia.isnull().sum()"
   ]
  },
  {
   "cell_type": "code",
   "execution_count": 42,
   "metadata": {},
   "outputs": [
    {
     "data": {
      "text/html": [
       "<div>\n",
       "<style scoped>\n",
       "    .dataframe tbody tr th:only-of-type {\n",
       "        vertical-align: middle;\n",
       "    }\n",
       "\n",
       "    .dataframe tbody tr th {\n",
       "        vertical-align: top;\n",
       "    }\n",
       "\n",
       "    .dataframe thead th {\n",
       "        text-align: right;\n",
       "    }\n",
       "</style>\n",
       "<table border=\"1\" class=\"dataframe\">\n",
       "  <thead>\n",
       "    <tr style=\"text-align: right;\">\n",
       "      <th></th>\n",
       "      <th>count</th>\n",
       "      <th>mean</th>\n",
       "      <th>std</th>\n",
       "      <th>min</th>\n",
       "      <th>25%</th>\n",
       "      <th>50%</th>\n",
       "      <th>75%</th>\n",
       "      <th>max</th>\n",
       "    </tr>\n",
       "  </thead>\n",
       "  <tbody>\n",
       "    <tr>\n",
       "      <th>Unnamed: 0</th>\n",
       "      <td>25973.0</td>\n",
       "      <td>12986.000000</td>\n",
       "      <td>7497.903607</td>\n",
       "      <td>0.0</td>\n",
       "      <td>6493.0</td>\n",
       "      <td>12986.0</td>\n",
       "      <td>19479.0</td>\n",
       "      <td>25972.0</td>\n",
       "    </tr>\n",
       "    <tr>\n",
       "      <th>level_0</th>\n",
       "      <td>25973.0</td>\n",
       "      <td>12986.000000</td>\n",
       "      <td>7497.903607</td>\n",
       "      <td>0.0</td>\n",
       "      <td>6493.0</td>\n",
       "      <td>12986.0</td>\n",
       "      <td>19479.0</td>\n",
       "      <td>25972.0</td>\n",
       "    </tr>\n",
       "    <tr>\n",
       "      <th>index</th>\n",
       "      <td>25973.0</td>\n",
       "      <td>12986.000000</td>\n",
       "      <td>7497.903607</td>\n",
       "      <td>0.0</td>\n",
       "      <td>6493.0</td>\n",
       "      <td>12986.0</td>\n",
       "      <td>19479.0</td>\n",
       "      <td>25972.0</td>\n",
       "    </tr>\n",
       "    <tr>\n",
       "      <th>time</th>\n",
       "      <td>25973.0</td>\n",
       "      <td>11054.664921</td>\n",
       "      <td>101471.622125</td>\n",
       "      <td>120.0</td>\n",
       "      <td>443.0</td>\n",
       "      <td>656.0</td>\n",
       "      <td>1038.0</td>\n",
       "      <td>2488653.0</td>\n",
       "    </tr>\n",
       "    <tr>\n",
       "      <th>Q30_B_Part_1</th>\n",
       "      <td>0.0</td>\n",
       "      <td>NaN</td>\n",
       "      <td>NaN</td>\n",
       "      <td>NaN</td>\n",
       "      <td>NaN</td>\n",
       "      <td>NaN</td>\n",
       "      <td>NaN</td>\n",
       "      <td>NaN</td>\n",
       "    </tr>\n",
       "    <tr>\n",
       "      <th>Q30_B_Part_2</th>\n",
       "      <td>0.0</td>\n",
       "      <td>NaN</td>\n",
       "      <td>NaN</td>\n",
       "      <td>NaN</td>\n",
       "      <td>NaN</td>\n",
       "      <td>NaN</td>\n",
       "      <td>NaN</td>\n",
       "      <td>NaN</td>\n",
       "    </tr>\n",
       "    <tr>\n",
       "      <th>Q30_B_Part_3</th>\n",
       "      <td>0.0</td>\n",
       "      <td>NaN</td>\n",
       "      <td>NaN</td>\n",
       "      <td>NaN</td>\n",
       "      <td>NaN</td>\n",
       "      <td>NaN</td>\n",
       "      <td>NaN</td>\n",
       "      <td>NaN</td>\n",
       "    </tr>\n",
       "    <tr>\n",
       "      <th>Q30_B_Part_4</th>\n",
       "      <td>0.0</td>\n",
       "      <td>NaN</td>\n",
       "      <td>NaN</td>\n",
       "      <td>NaN</td>\n",
       "      <td>NaN</td>\n",
       "      <td>NaN</td>\n",
       "      <td>NaN</td>\n",
       "      <td>NaN</td>\n",
       "    </tr>\n",
       "    <tr>\n",
       "      <th>Q30_B_Part_5</th>\n",
       "      <td>0.0</td>\n",
       "      <td>NaN</td>\n",
       "      <td>NaN</td>\n",
       "      <td>NaN</td>\n",
       "      <td>NaN</td>\n",
       "      <td>NaN</td>\n",
       "      <td>NaN</td>\n",
       "      <td>NaN</td>\n",
       "    </tr>\n",
       "    <tr>\n",
       "      <th>Q30_B_Part_6</th>\n",
       "      <td>0.0</td>\n",
       "      <td>NaN</td>\n",
       "      <td>NaN</td>\n",
       "      <td>NaN</td>\n",
       "      <td>NaN</td>\n",
       "      <td>NaN</td>\n",
       "      <td>NaN</td>\n",
       "      <td>NaN</td>\n",
       "    </tr>\n",
       "    <tr>\n",
       "      <th>Q30_B_Part_7</th>\n",
       "      <td>0.0</td>\n",
       "      <td>NaN</td>\n",
       "      <td>NaN</td>\n",
       "      <td>NaN</td>\n",
       "      <td>NaN</td>\n",
       "      <td>NaN</td>\n",
       "      <td>NaN</td>\n",
       "      <td>NaN</td>\n",
       "    </tr>\n",
       "    <tr>\n",
       "      <th>Q30_B_OTHER</th>\n",
       "      <td>0.0</td>\n",
       "      <td>NaN</td>\n",
       "      <td>NaN</td>\n",
       "      <td>NaN</td>\n",
       "      <td>NaN</td>\n",
       "      <td>NaN</td>\n",
       "      <td>NaN</td>\n",
       "      <td>NaN</td>\n",
       "    </tr>\n",
       "  </tbody>\n",
       "</table>\n",
       "</div>"
      ],
      "text/plain": [
       "                count          mean            std    min     25%      50%  \\\n",
       "Unnamed: 0    25973.0  12986.000000    7497.903607    0.0  6493.0  12986.0   \n",
       "level_0       25973.0  12986.000000    7497.903607    0.0  6493.0  12986.0   \n",
       "index         25973.0  12986.000000    7497.903607    0.0  6493.0  12986.0   \n",
       "time          25973.0  11054.664921  101471.622125  120.0   443.0    656.0   \n",
       "Q30_B_Part_1      0.0           NaN            NaN    NaN     NaN      NaN   \n",
       "Q30_B_Part_2      0.0           NaN            NaN    NaN     NaN      NaN   \n",
       "Q30_B_Part_3      0.0           NaN            NaN    NaN     NaN      NaN   \n",
       "Q30_B_Part_4      0.0           NaN            NaN    NaN     NaN      NaN   \n",
       "Q30_B_Part_5      0.0           NaN            NaN    NaN     NaN      NaN   \n",
       "Q30_B_Part_6      0.0           NaN            NaN    NaN     NaN      NaN   \n",
       "Q30_B_Part_7      0.0           NaN            NaN    NaN     NaN      NaN   \n",
       "Q30_B_OTHER       0.0           NaN            NaN    NaN     NaN      NaN   \n",
       "\n",
       "                  75%        max  \n",
       "Unnamed: 0    19479.0    25972.0  \n",
       "level_0       19479.0    25972.0  \n",
       "index         19479.0    25972.0  \n",
       "time           1038.0  2488653.0  \n",
       "Q30_B_Part_1      NaN        NaN  \n",
       "Q30_B_Part_2      NaN        NaN  \n",
       "Q30_B_Part_3      NaN        NaN  \n",
       "Q30_B_Part_4      NaN        NaN  \n",
       "Q30_B_Part_5      NaN        NaN  \n",
       "Q30_B_Part_6      NaN        NaN  \n",
       "Q30_B_Part_7      NaN        NaN  \n",
       "Q30_B_OTHER       NaN        NaN  "
      ]
     },
     "execution_count": 42,
     "metadata": {},
     "output_type": "execute_result"
    }
   ],
   "source": [
    "archivo_trabajo_copia.describe().T"
   ]
  },
  {
   "cell_type": "code",
   "execution_count": 41,
   "metadata": {},
   "outputs": [
    {
     "data": {
      "text/plain": [
       "Index(['Unnamed: 0', 'level_0', 'index', 'time', 'age', 'gender', 'Q3', 'Q4',\n",
       "       'Q5', 'Q6',\n",
       "       ...\n",
       "       'Q10_Part_8', 'Q10_Part_9', 'Q10_Part_10', 'Q10_Part_11', 'Q10_Part_12',\n",
       "       'Q10_Part_13', 'Q10_Part_14', 'Q10_Part_15', 'Q10_Part_16',\n",
       "       'Q10_OTHER'],\n",
       "      dtype='object', length=261)"
      ]
     },
     "execution_count": 41,
     "metadata": {},
     "output_type": "execute_result"
    }
   ],
   "source": [
    "archivo_trabajo_copia.columns"
   ]
  },
  {
   "cell_type": "markdown",
   "metadata": {},
   "source": [
    ".rename()\n",
    "MiDataframe.rename(columns = {\"nombre-antiguo\": \"nombre-nuevo\"}, inplace = True)"
   ]
  },
  {
   "cell_type": "markdown",
   "metadata": {},
   "source": [
    "dfNuevo = DfViejo[['candidate_name', 'disbursement_amount','disbursement_date']].copy()"
   ]
  },
  {
   "cell_type": "code",
   "execution_count": 50,
   "metadata": {},
   "outputs": [
    {
     "data": {
      "text/html": [
       "<div>\n",
       "<style scoped>\n",
       "    .dataframe tbody tr th:only-of-type {\n",
       "        vertical-align: middle;\n",
       "    }\n",
       "\n",
       "    .dataframe tbody tr th {\n",
       "        vertical-align: top;\n",
       "    }\n",
       "\n",
       "    .dataframe thead th {\n",
       "        text-align: right;\n",
       "    }\n",
       "</style>\n",
       "<table border=\"1\" class=\"dataframe\">\n",
       "  <thead>\n",
       "    <tr style=\"text-align: right;\">\n",
       "      <th></th>\n",
       "      <th>index</th>\n",
       "      <th>age</th>\n",
       "      <th>gender</th>\n",
       "      <th>Q3</th>\n",
       "      <th>Q4</th>\n",
       "      <th>Q5</th>\n",
       "      <th>Q6</th>\n",
       "      <th>Q7</th>\n",
       "      <th>Q8</th>\n",
       "      <th>Q11</th>\n",
       "      <th>...</th>\n",
       "      <th>Q42_Part_3</th>\n",
       "      <th>Q42_Part_4</th>\n",
       "      <th>Q42_Part_5</th>\n",
       "      <th>Q42_Part_6</th>\n",
       "      <th>Q42_Part_7</th>\n",
       "      <th>Q42_Part_8</th>\n",
       "      <th>Q42_Part_9</th>\n",
       "      <th>Q42_Part_10</th>\n",
       "      <th>Q42_Part_11</th>\n",
       "      <th>Q42_OTHER</th>\n",
       "    </tr>\n",
       "  </thead>\n",
       "  <tbody>\n",
       "    <tr>\n",
       "      <th>0</th>\n",
       "      <td>0</td>\n",
       "      <td>50-54</td>\n",
       "      <td>Man</td>\n",
       "      <td>India</td>\n",
       "      <td>Bachelor’s degree</td>\n",
       "      <td>Other</td>\n",
       "      <td>5-10 years</td>\n",
       "      <td>Python, R</td>\n",
       "      <td>Python</td>\n",
       "      <td>A laptop</td>\n",
       "      <td>...</td>\n",
       "      <td>NaN</td>\n",
       "      <td>Kaggle (notebooks, forums, etc)</td>\n",
       "      <td>NaN</td>\n",
       "      <td>YouTube (Kaggle YouTube, Cloud AI Adventures, ...</td>\n",
       "      <td>Podcasts (Chai Time Data Science, O’Reilly Dat...</td>\n",
       "      <td>Blogs (Towards Data Science, Analytics Vidhya,...</td>\n",
       "      <td>Journal Publications (peer-reviewed journals, ...</td>\n",
       "      <td>NaN</td>\n",
       "      <td>NaN</td>\n",
       "      <td>NaN</td>\n",
       "    </tr>\n",
       "    <tr>\n",
       "      <th>1</th>\n",
       "      <td>1</td>\n",
       "      <td>50-54</td>\n",
       "      <td>Man</td>\n",
       "      <td>Indonesia</td>\n",
       "      <td>Master’s degree</td>\n",
       "      <td>Program/Project Manager</td>\n",
       "      <td>20+ years</td>\n",
       "      <td>SQL, C, C++, Java</td>\n",
       "      <td>Python</td>\n",
       "      <td>A cloud computing platform (AWS, Azure, GCP, h...</td>\n",
       "      <td>...</td>\n",
       "      <td>NaN</td>\n",
       "      <td>NaN</td>\n",
       "      <td>NaN</td>\n",
       "      <td>NaN</td>\n",
       "      <td>NaN</td>\n",
       "      <td>NaN</td>\n",
       "      <td>Journal Publications (peer-reviewed journals, ...</td>\n",
       "      <td>NaN</td>\n",
       "      <td>NaN</td>\n",
       "      <td>NaN</td>\n",
       "    </tr>\n",
       "    <tr>\n",
       "      <th>2</th>\n",
       "      <td>2</td>\n",
       "      <td>22-24</td>\n",
       "      <td>Man</td>\n",
       "      <td>Pakistan</td>\n",
       "      <td>Master’s degree</td>\n",
       "      <td>Software Engineer</td>\n",
       "      <td>1-3 years</td>\n",
       "      <td>Python, C++, Java</td>\n",
       "      <td>Python</td>\n",
       "      <td>A laptop</td>\n",
       "      <td>...</td>\n",
       "      <td>NaN</td>\n",
       "      <td>Kaggle (notebooks, forums, etc)</td>\n",
       "      <td>NaN</td>\n",
       "      <td>YouTube (Kaggle YouTube, Cloud AI Adventures, ...</td>\n",
       "      <td>NaN</td>\n",
       "      <td>NaN</td>\n",
       "      <td>NaN</td>\n",
       "      <td>NaN</td>\n",
       "      <td>NaN</td>\n",
       "      <td>NaN</td>\n",
       "    </tr>\n",
       "    <tr>\n",
       "      <th>3</th>\n",
       "      <td>3</td>\n",
       "      <td>45-49</td>\n",
       "      <td>Man</td>\n",
       "      <td>Mexico</td>\n",
       "      <td>Doctoral degree</td>\n",
       "      <td>Research Scientist</td>\n",
       "      <td>20+ years</td>\n",
       "      <td>Python</td>\n",
       "      <td>Python</td>\n",
       "      <td>A cloud computing platform (AWS, Azure, GCP, h...</td>\n",
       "      <td>...</td>\n",
       "      <td>NaN</td>\n",
       "      <td>NaN</td>\n",
       "      <td>NaN</td>\n",
       "      <td>YouTube (Kaggle YouTube, Cloud AI Adventures, ...</td>\n",
       "      <td>NaN</td>\n",
       "      <td>Blogs (Towards Data Science, Analytics Vidhya,...</td>\n",
       "      <td>Journal Publications (peer-reviewed journals, ...</td>\n",
       "      <td>NaN</td>\n",
       "      <td>NaN</td>\n",
       "      <td>NaN</td>\n",
       "    </tr>\n",
       "    <tr>\n",
       "      <th>4</th>\n",
       "      <td>4</td>\n",
       "      <td>45-49</td>\n",
       "      <td>Man</td>\n",
       "      <td>India</td>\n",
       "      <td>Doctoral degree</td>\n",
       "      <td>Other</td>\n",
       "      <td>&lt; 1 years</td>\n",
       "      <td>Python, C, MATLAB</td>\n",
       "      <td>Python</td>\n",
       "      <td>A cloud computing platform (AWS, Azure, GCP, h...</td>\n",
       "      <td>...</td>\n",
       "      <td>NaN</td>\n",
       "      <td>NaN</td>\n",
       "      <td>NaN</td>\n",
       "      <td>NaN</td>\n",
       "      <td>NaN</td>\n",
       "      <td>NaN</td>\n",
       "      <td>Journal Publications (peer-reviewed journals, ...</td>\n",
       "      <td>NaN</td>\n",
       "      <td>NaN</td>\n",
       "      <td>NaN</td>\n",
       "    </tr>\n",
       "  </tbody>\n",
       "</table>\n",
       "<p>5 rows × 41 columns</p>\n",
       "</div>"
      ],
      "text/plain": [
       "   index    age gender         Q3                 Q4                       Q5  \\\n",
       "0      0  50-54    Man      India  Bachelor’s degree                    Other   \n",
       "1      1  50-54    Man  Indonesia    Master’s degree  Program/Project Manager   \n",
       "2      2  22-24    Man   Pakistan    Master’s degree        Software Engineer   \n",
       "3      3  45-49    Man     Mexico    Doctoral degree       Research Scientist   \n",
       "4      4  45-49    Man      India    Doctoral degree                    Other   \n",
       "\n",
       "           Q6                  Q7      Q8  \\\n",
       "0  5-10 years           Python, R  Python   \n",
       "1   20+ years   SQL, C, C++, Java  Python   \n",
       "2   1-3 years   Python, C++, Java  Python   \n",
       "3   20+ years              Python  Python   \n",
       "4   < 1 years   Python, C, MATLAB  Python   \n",
       "\n",
       "                                                 Q11  ... Q42_Part_3  \\\n",
       "0                                           A laptop  ...        NaN   \n",
       "1  A cloud computing platform (AWS, Azure, GCP, h...  ...        NaN   \n",
       "2                                           A laptop  ...        NaN   \n",
       "3  A cloud computing platform (AWS, Azure, GCP, h...  ...        NaN   \n",
       "4  A cloud computing platform (AWS, Azure, GCP, h...  ...        NaN   \n",
       "\n",
       "                        Q42_Part_4 Q42_Part_5  \\\n",
       "0  Kaggle (notebooks, forums, etc)        NaN   \n",
       "1                              NaN        NaN   \n",
       "2  Kaggle (notebooks, forums, etc)        NaN   \n",
       "3                              NaN        NaN   \n",
       "4                              NaN        NaN   \n",
       "\n",
       "                                          Q42_Part_6  \\\n",
       "0  YouTube (Kaggle YouTube, Cloud AI Adventures, ...   \n",
       "1                                                NaN   \n",
       "2  YouTube (Kaggle YouTube, Cloud AI Adventures, ...   \n",
       "3  YouTube (Kaggle YouTube, Cloud AI Adventures, ...   \n",
       "4                                                NaN   \n",
       "\n",
       "                                          Q42_Part_7  \\\n",
       "0  Podcasts (Chai Time Data Science, O’Reilly Dat...   \n",
       "1                                                NaN   \n",
       "2                                                NaN   \n",
       "3                                                NaN   \n",
       "4                                                NaN   \n",
       "\n",
       "                                          Q42_Part_8  \\\n",
       "0  Blogs (Towards Data Science, Analytics Vidhya,...   \n",
       "1                                                NaN   \n",
       "2                                                NaN   \n",
       "3  Blogs (Towards Data Science, Analytics Vidhya,...   \n",
       "4                                                NaN   \n",
       "\n",
       "                                          Q42_Part_9 Q42_Part_10 Q42_Part_11  \\\n",
       "0  Journal Publications (peer-reviewed journals, ...         NaN         NaN   \n",
       "1  Journal Publications (peer-reviewed journals, ...         NaN         NaN   \n",
       "2                                                NaN         NaN         NaN   \n",
       "3  Journal Publications (peer-reviewed journals, ...         NaN         NaN   \n",
       "4  Journal Publications (peer-reviewed journals, ...         NaN         NaN   \n",
       "\n",
       "  Q42_OTHER  \n",
       "0       NaN  \n",
       "1       NaN  \n",
       "2       NaN  \n",
       "3       NaN  \n",
       "4       NaN  \n",
       "\n",
       "[5 rows x 41 columns]"
      ]
     },
     "execution_count": 50,
     "metadata": {},
     "output_type": "execute_result"
    }
   ],
   "source": [
    "tabla_pequeña = archivo_trabajo_copia[['index','age', 'gender','Q3','Q4','Q5',\"Q6\",\"Q7\",\"Q8\",\"Q11\",\"Q14\",\"Q15\",\"Q20\",\"Q21\",\"Q22\",\"Q25\",\"Q26\",\"Q40_Part_1\",\"Q40_Part_2\",\"Q40_Part_3\",\"Q40_Part_4\",\"Q40_Part_5\",\"Q40_Part_6\",\"Q40_Part_7\",\"Q40_Part_8\",\"Q40_Part_9\",\"Q40_Part_10\",\"Q40_Part_11\",\"Q40_OTHER\",\"Q42_Part_1\",\"Q42_Part_2\",\"Q42_Part_3\",\"Q42_Part_4\",\"Q42_Part_5\",\"Q42_Part_6\",\"Q42_Part_7\",\"Q42_Part_8\",\"Q42_Part_9\",\"Q42_Part_10\",\"Q42_Part_11\",\"Q42_OTHER\"]].copy()\n",
    "tabla_pequeña.head()\n"
   ]
  },
  {
   "cell_type": "code",
   "execution_count": 51,
   "metadata": {},
   "outputs": [
    {
     "data": {
      "text/plain": [
       "Index(['index', 'age', 'gender', 'Q3', 'Q4', 'Q5', 'Q6', 'Q7', 'Q8', 'Q11',\n",
       "       'Q14', 'Q15', 'Q20', 'Q21', 'Q22', 'Q25', 'Q26', 'Q40_Part_1',\n",
       "       'Q40_Part_2', 'Q40_Part_3', 'Q40_Part_4', 'Q40_Part_5', 'Q40_Part_6',\n",
       "       'Q40_Part_7', 'Q40_Part_8', 'Q40_Part_9', 'Q40_Part_10', 'Q40_Part_11',\n",
       "       'Q40_OTHER', 'Q42_Part_1', 'Q42_Part_2', 'Q42_Part_3', 'Q42_Part_4',\n",
       "       'Q42_Part_5', 'Q42_Part_6', 'Q42_Part_7', 'Q42_Part_8', 'Q42_Part_9',\n",
       "       'Q42_Part_10', 'Q42_Part_11', 'Q42_OTHER'],\n",
       "      dtype='object')"
      ]
     },
     "execution_count": 51,
     "metadata": {},
     "output_type": "execute_result"
    }
   ],
   "source": [
    "tabla_pequeña.columns"
   ]
  },
  {
   "cell_type": "code",
   "execution_count": 52,
   "metadata": {},
   "outputs": [
    {
     "name": "stdout",
     "output_type": "stream",
     "text": [
      "<class 'pandas.core.frame.DataFrame'>\n",
      "Int64Index: 25973 entries, 0 to 25972\n",
      "Data columns (total 41 columns):\n",
      " #   Column       Non-Null Count  Dtype \n",
      "---  ------       --------------  ----- \n",
      " 0   index        25973 non-null  int64 \n",
      " 1   age          25973 non-null  object\n",
      " 2   gender       25973 non-null  object\n",
      " 3   Q3           25973 non-null  object\n",
      " 4   Q4           25973 non-null  object\n",
      " 5   Q5           25973 non-null  object\n",
      " 6   Q6           25973 non-null  object\n",
      " 7   Q7           24941 non-null  object\n",
      " 8   Q8           24940 non-null  object\n",
      " 9   Q11          24720 non-null  object\n",
      " 10  Q14          23970 non-null  object\n",
      " 11  Q15          23754 non-null  object\n",
      " 12  Q20          16325 non-null  object\n",
      " 13  Q21          16251 non-null  object\n",
      " 14  Q22          16126 non-null  object\n",
      " 15  Q25          15391 non-null  object\n",
      " 16  Q26          15183 non-null  object\n",
      " 17  Q40_Part_1   9649 non-null   object\n",
      " 18  Q40_Part_2   3028 non-null   object\n",
      " 19  Q40_Part_3   8670 non-null   object\n",
      " 20  Q40_Part_4   3996 non-null   object\n",
      " 21  Q40_Part_5   1157 non-null   object\n",
      " 22  Q40_Part_6   2803 non-null   object\n",
      " 23  Q40_Part_7   6440 non-null   object\n",
      " 24  Q40_Part_8   2693 non-null   object\n",
      " 25  Q40_Part_9   1804 non-null   object\n",
      " 26  Q40_Part_10  4882 non-null   object\n",
      " 27  Q40_Part_11  1762 non-null   object\n",
      " 28  Q40_OTHER    2081 non-null   object\n",
      " 29  Q42_Part_1   3747 non-null   object\n",
      " 30  Q42_Part_2   3441 non-null   object\n",
      " 31  Q42_Part_3   2939 non-null   object\n",
      " 32  Q42_Part_4   11373 non-null  object\n",
      " 33  Q42_Part_5   2996 non-null   object\n",
      " 34  Q42_Part_6   10401 non-null  object\n",
      " 35  Q42_Part_7   2022 non-null   object\n",
      " 36  Q42_Part_8   7977 non-null   object\n",
      " 37  Q42_Part_9   3350 non-null   object\n",
      " 38  Q42_Part_10  1995 non-null   object\n",
      " 39  Q42_Part_11  1007 non-null   object\n",
      " 40  Q42_OTHER    583 non-null    object\n",
      "dtypes: int64(1), object(40)\n",
      "memory usage: 8.3+ MB\n"
     ]
    }
   ],
   "source": [
    "tabla_pequeña.info()"
   ]
  },
  {
   "cell_type": "code",
   "execution_count": null,
   "metadata": {},
   "outputs": [],
   "source": []
  }
 ],
 "metadata": {
  "kernelspec": {
   "display_name": "Python 3.9.7 ('base')",
   "language": "python",
   "name": "python3"
  },
  "language_info": {
   "codemirror_mode": {
    "name": "ipython",
    "version": 3
   },
   "file_extension": ".py",
   "mimetype": "text/x-python",
   "name": "python",
   "nbconvert_exporter": "python",
   "pygments_lexer": "ipython3",
   "version": "3.9.7"
  },
  "orig_nbformat": 4,
  "vscode": {
   "interpreter": {
    "hash": "651c3b7b3f466eb030aa737f279c846be4db9cba49a2f229278cab5e41121ed5"
   }
  }
 },
 "nbformat": 4,
 "nbformat_minor": 2
}
