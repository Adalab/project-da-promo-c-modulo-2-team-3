{
 "cells": [
  {
   "cell_type": "code",
   "execution_count": null,
   "metadata": {},
   "outputs": [],
   "source": [
    "import pandas as pd\n",
    "import numpy as np\n",
    "import pickle\n",
    "import os"
   ]
  },
  {
   "cell_type": "code",
   "execution_count": null,
   "metadata": {},
   "outputs": [],
   "source": [
    "ubicacion = os.getcwd()\n",
    "ubicacion"
   ]
  },
  {
   "cell_type": "code",
   "execution_count": null,
   "metadata": {},
   "outputs": [],
   "source": [
    "archivo_txt = pd.read_csv( \"archivo_txt.csv\")\n",
    "archivo_txt"
   ]
  },
  {
   "cell_type": "code",
   "execution_count": null,
   "metadata": {},
   "outputs": [],
   "source": [
    "archivo_xml = pd.read_csv( \"archivo_xml.csv\")\n",
    "archivo_xml"
   ]
  },
  {
   "cell_type": "code",
   "execution_count": null,
   "metadata": {},
   "outputs": [],
   "source": [
    "data_remaning_kaggle = pd.read_csv( \"data_remaning_kaggle.csv\")\n",
    "data_remaning_kaggle"
   ]
  },
  {
   "cell_type": "code",
   "execution_count": null,
   "metadata": {},
   "outputs": [],
   "source": [
    "exported_db_data = pd.read_csv( \"exported_db_data.csv\")\n",
    "exported_db_data"
   ]
  },
  {
   "cell_type": "code",
   "execution_count": null,
   "metadata": {},
   "outputs": [],
   "source": [
    "archivo_txt.info()"
   ]
  },
  {
   "cell_type": "code",
   "execution_count": null,
   "metadata": {},
   "outputs": [],
   "source": [
    "archivo_xml.info()"
   ]
  },
  {
   "cell_type": "code",
   "execution_count": null,
   "metadata": {},
   "outputs": [],
   "source": [
    "data_remaning_kaggle.info()"
   ]
  },
  {
   "cell_type": "code",
   "execution_count": null,
   "metadata": {},
   "outputs": [],
   "source": [
    "exported_db_data.info()"
   ]
  },
  {
   "attachments": {},
   "cell_type": "markdown",
   "metadata": {},
   "source": [
    "--------------------------------"
   ]
  },
  {
   "cell_type": "code",
   "execution_count": null,
   "metadata": {},
   "outputs": [],
   "source": [
    "columnas_data_txt_clean = archivo_txt.columns\n",
    "columnas_data_txt_clean"
   ]
  },
  {
   "cell_type": "code",
   "execution_count": null,
   "metadata": {},
   "outputs": [],
   "source": [
    "columnas_archivo_xml_clean = archivo_xml.columns\n",
    "columnas_archivo_xml_clean"
   ]
  },
  {
   "cell_type": "code",
   "execution_count": null,
   "metadata": {},
   "outputs": [],
   "source": [
    "columnas_data_remaning_kaggle = data_remaning_kaggle.columns\n",
    "columnas_data_remaning_kaggle"
   ]
  },
  {
   "cell_type": "code",
   "execution_count": null,
   "metadata": {},
   "outputs": [],
   "source": [
    "columnas_exported_db_data = exported_db_data.columns\n",
    "columnas_exported_db_data"
   ]
  },
  {
   "attachments": {},
   "cell_type": "markdown",
   "metadata": {},
   "source": [
    "-------------------------------------------"
   ]
  },
  {
   "cell_type": "code",
   "execution_count": null,
   "metadata": {},
   "outputs": [],
   "source": [
    "#1\n",
    "columnas_data_txt_clean = np.array (archivo_txt.columns)\n",
    "columnas_data_txt_clean"
   ]
  },
  {
   "cell_type": "code",
   "execution_count": null,
   "metadata": {},
   "outputs": [],
   "source": [
    "#2\n",
    "columnas_archivo_xml_clean = np.array (archivo_xml.columns)\n",
    "columnas_archivo_xml_clean"
   ]
  },
  {
   "cell_type": "code",
   "execution_count": null,
   "metadata": {},
   "outputs": [],
   "source": [
    "#3\n",
    "columnas_data_remaning_kaggle = np.array (data_remaning_kaggle.columns)\n",
    "columnas_data_remaning_kaggle"
   ]
  },
  {
   "cell_type": "code",
   "execution_count": null,
   "metadata": {},
   "outputs": [],
   "source": [
    "#4\n",
    "columnas_exported_db_data = np.array (exported_db_data.columns)\n",
    "columnas_exported_db_data"
   ]
  },
  {
   "cell_type": "code",
   "execution_count": null,
   "metadata": {},
   "outputs": [],
   "source": [
    "#combinacion 1,2\n",
    "np.intersect1d (columnas_data_txt_clean, columnas_archivo_xml_clean)"
   ]
  },
  {
   "cell_type": "code",
   "execution_count": null,
   "metadata": {},
   "outputs": [],
   "source": [
    "#combinacion 1,3\n",
    "np.intersect1d (columnas_data_txt_clean, columnas_data_remaning_kaggle)"
   ]
  },
  {
   "cell_type": "code",
   "execution_count": null,
   "metadata": {},
   "outputs": [],
   "source": [
    "#combinacion 1,4\n",
    "np.intersect1d (columnas_data_txt_clean, columnas_exported_db_data)"
   ]
  },
  {
   "cell_type": "code",
   "execution_count": null,
   "metadata": {},
   "outputs": [],
   "source": [
    "#combinacion 2,3\n",
    "np.intersect1d (columnas_archivo_xml_clean, columnas_data_remaning_kaggle)"
   ]
  },
  {
   "cell_type": "code",
   "execution_count": null,
   "metadata": {},
   "outputs": [],
   "source": [
    "#combinacion 2,4\n",
    "np.intersect1d (columnas_archivo_xml_clean, columnas_exported_db_data)"
   ]
  },
  {
   "cell_type": "code",
   "execution_count": null,
   "metadata": {},
   "outputs": [],
   "source": [
    "np.intersect1d (columnas_data_remaning_kaggle, columnas_exported_db_data)"
   ]
  },
  {
   "cell_type": "code",
   "execution_count": null,
   "metadata": {},
   "outputs": [],
   "source": [
    "# 1 archivo_xml\n",
    "# 2 archivo_txt\n",
    "# 3 data_remaning_kaggle\n",
    "# 4 exported_db_data"
   ]
  },
  {
   "cell_type": "code",
   "execution_count": null,
   "metadata": {},
   "outputs": [],
   "source": [
    "comb_1_2 = archivo_xml.merge(archivo_txt, how = 'inner', on = ['index','Unnamed: 0'])\n",
    "#comb_1_2.head()\n",
    "#comb_1_2.columns"
   ]
  },
  {
   "cell_type": "code",
   "execution_count": null,
   "metadata": {},
   "outputs": [],
   "source": [
    "comb_1_2_3 = comb_1_2.merge(data_remaning_kaggle,how = 'inner', on = ['index','Unnamed: 0'])\n",
    "#comb_1_2_3.head()\n",
    "#comb_1_2_3.columns"
   ]
  },
  {
   "cell_type": "code",
   "execution_count": null,
   "metadata": {},
   "outputs": [],
   "source": [
    "comb_1_2_3_4 = comb_1_2_3.merge(exported_db_data,how = 'inner', on = ['index'])\n",
    "#comb_1_2_3_4.head()\n",
    "#comb_1_2_3_4.columns"
   ]
  },
  {
   "cell_type": "code",
   "execution_count": null,
   "metadata": {},
   "outputs": [],
   "source": [
    "archivo_total = comb_1_2_3_4.copy()"
   ]
  },
  {
   "cell_type": "code",
   "execution_count": null,
   "metadata": {},
   "outputs": [],
   "source": [
    "archivo_total.to_csv(\"archivo_total.csv\")"
   ]
  },
  {
   "cell_type": "markdown",
   "metadata": {},
   "source": [
    "----------------------------------------------------------------------------------"
   ]
  },
  {
   "cell_type": "markdown",
   "metadata": {},
   "source": [
    "* Trabajamos en el fichero"
   ]
  },
  {
   "cell_type": "code",
   "execution_count": null,
   "metadata": {},
   "outputs": [],
   "source": [
    "archivo_trabajo_copia = archivo_total.copy()"
   ]
  },
  {
   "cell_type": "code",
   "execution_count": null,
   "metadata": {},
   "outputs": [],
   "source": [
    "archivo_trabajo_copia.shape"
   ]
  },
  {
   "cell_type": "code",
   "execution_count": null,
   "metadata": {},
   "outputs": [],
   "source": [
    "archivo_trabajo_copia.info(null_counts=True)"
   ]
  },
  {
   "cell_type": "code",
   "execution_count": 41,
   "metadata": {},
   "outputs": [
    {
     "data": {
      "text/plain": [
       "Index(['Unnamed: 0', 'level_0', 'index', 'time', 'age', 'gender', 'Q3', 'Q4',\n",
       "       'Q5', 'Q6',\n",
       "       ...\n",
       "       'Q10_Part_8', 'Q10_Part_9', 'Q10_Part_10', 'Q10_Part_11', 'Q10_Part_12',\n",
       "       'Q10_Part_13', 'Q10_Part_14', 'Q10_Part_15', 'Q10_Part_16',\n",
       "       'Q10_OTHER'],\n",
       "      dtype='object', length=261)"
      ]
     },
     "execution_count": 41,
     "metadata": {},
     "output_type": "execute_result"
    }
   ],
   "source": [
    "archivo_trabajo_copia.columns"
   ]
  },
  {
   "cell_type": "code",
   "execution_count": null,
   "metadata": {},
   "outputs": [],
   "source": [
    "archivo_trabajo_copia.isnull().sum()"
   ]
  },
  {
   "cell_type": "code",
   "execution_count": 42,
   "metadata": {},
   "outputs": [
    {
     "data": {
      "text/html": [
       "<div>\n",
       "<style scoped>\n",
       "    .dataframe tbody tr th:only-of-type {\n",
       "        vertical-align: middle;\n",
       "    }\n",
       "\n",
       "    .dataframe tbody tr th {\n",
       "        vertical-align: top;\n",
       "    }\n",
       "\n",
       "    .dataframe thead th {\n",
       "        text-align: right;\n",
       "    }\n",
       "</style>\n",
       "<table border=\"1\" class=\"dataframe\">\n",
       "  <thead>\n",
       "    <tr style=\"text-align: right;\">\n",
       "      <th></th>\n",
       "      <th>count</th>\n",
       "      <th>mean</th>\n",
       "      <th>std</th>\n",
       "      <th>min</th>\n",
       "      <th>25%</th>\n",
       "      <th>50%</th>\n",
       "      <th>75%</th>\n",
       "      <th>max</th>\n",
       "    </tr>\n",
       "  </thead>\n",
       "  <tbody>\n",
       "    <tr>\n",
       "      <th>Unnamed: 0</th>\n",
       "      <td>25973.0</td>\n",
       "      <td>12986.000000</td>\n",
       "      <td>7497.903607</td>\n",
       "      <td>0.0</td>\n",
       "      <td>6493.0</td>\n",
       "      <td>12986.0</td>\n",
       "      <td>19479.0</td>\n",
       "      <td>25972.0</td>\n",
       "    </tr>\n",
       "    <tr>\n",
       "      <th>level_0</th>\n",
       "      <td>25973.0</td>\n",
       "      <td>12986.000000</td>\n",
       "      <td>7497.903607</td>\n",
       "      <td>0.0</td>\n",
       "      <td>6493.0</td>\n",
       "      <td>12986.0</td>\n",
       "      <td>19479.0</td>\n",
       "      <td>25972.0</td>\n",
       "    </tr>\n",
       "    <tr>\n",
       "      <th>index</th>\n",
       "      <td>25973.0</td>\n",
       "      <td>12986.000000</td>\n",
       "      <td>7497.903607</td>\n",
       "      <td>0.0</td>\n",
       "      <td>6493.0</td>\n",
       "      <td>12986.0</td>\n",
       "      <td>19479.0</td>\n",
       "      <td>25972.0</td>\n",
       "    </tr>\n",
       "    <tr>\n",
       "      <th>time</th>\n",
       "      <td>25973.0</td>\n",
       "      <td>11054.664921</td>\n",
       "      <td>101471.622125</td>\n",
       "      <td>120.0</td>\n",
       "      <td>443.0</td>\n",
       "      <td>656.0</td>\n",
       "      <td>1038.0</td>\n",
       "      <td>2488653.0</td>\n",
       "    </tr>\n",
       "    <tr>\n",
       "      <th>Q30_B_Part_1</th>\n",
       "      <td>0.0</td>\n",
       "      <td>NaN</td>\n",
       "      <td>NaN</td>\n",
       "      <td>NaN</td>\n",
       "      <td>NaN</td>\n",
       "      <td>NaN</td>\n",
       "      <td>NaN</td>\n",
       "      <td>NaN</td>\n",
       "    </tr>\n",
       "    <tr>\n",
       "      <th>Q30_B_Part_2</th>\n",
       "      <td>0.0</td>\n",
       "      <td>NaN</td>\n",
       "      <td>NaN</td>\n",
       "      <td>NaN</td>\n",
       "      <td>NaN</td>\n",
       "      <td>NaN</td>\n",
       "      <td>NaN</td>\n",
       "      <td>NaN</td>\n",
       "    </tr>\n",
       "    <tr>\n",
       "      <th>Q30_B_Part_3</th>\n",
       "      <td>0.0</td>\n",
       "      <td>NaN</td>\n",
       "      <td>NaN</td>\n",
       "      <td>NaN</td>\n",
       "      <td>NaN</td>\n",
       "      <td>NaN</td>\n",
       "      <td>NaN</td>\n",
       "      <td>NaN</td>\n",
       "    </tr>\n",
       "    <tr>\n",
       "      <th>Q30_B_Part_4</th>\n",
       "      <td>0.0</td>\n",
       "      <td>NaN</td>\n",
       "      <td>NaN</td>\n",
       "      <td>NaN</td>\n",
       "      <td>NaN</td>\n",
       "      <td>NaN</td>\n",
       "      <td>NaN</td>\n",
       "      <td>NaN</td>\n",
       "    </tr>\n",
       "    <tr>\n",
       "      <th>Q30_B_Part_5</th>\n",
       "      <td>0.0</td>\n",
       "      <td>NaN</td>\n",
       "      <td>NaN</td>\n",
       "      <td>NaN</td>\n",
       "      <td>NaN</td>\n",
       "      <td>NaN</td>\n",
       "      <td>NaN</td>\n",
       "      <td>NaN</td>\n",
       "    </tr>\n",
       "    <tr>\n",
       "      <th>Q30_B_Part_6</th>\n",
       "      <td>0.0</td>\n",
       "      <td>NaN</td>\n",
       "      <td>NaN</td>\n",
       "      <td>NaN</td>\n",
       "      <td>NaN</td>\n",
       "      <td>NaN</td>\n",
       "      <td>NaN</td>\n",
       "      <td>NaN</td>\n",
       "    </tr>\n",
       "    <tr>\n",
       "      <th>Q30_B_Part_7</th>\n",
       "      <td>0.0</td>\n",
       "      <td>NaN</td>\n",
       "      <td>NaN</td>\n",
       "      <td>NaN</td>\n",
       "      <td>NaN</td>\n",
       "      <td>NaN</td>\n",
       "      <td>NaN</td>\n",
       "      <td>NaN</td>\n",
       "    </tr>\n",
       "    <tr>\n",
       "      <th>Q30_B_OTHER</th>\n",
       "      <td>0.0</td>\n",
       "      <td>NaN</td>\n",
       "      <td>NaN</td>\n",
       "      <td>NaN</td>\n",
       "      <td>NaN</td>\n",
       "      <td>NaN</td>\n",
       "      <td>NaN</td>\n",
       "      <td>NaN</td>\n",
       "    </tr>\n",
       "  </tbody>\n",
       "</table>\n",
       "</div>"
      ],
      "text/plain": [
       "                count          mean            std    min     25%      50%  \\\n",
       "Unnamed: 0    25973.0  12986.000000    7497.903607    0.0  6493.0  12986.0   \n",
       "level_0       25973.0  12986.000000    7497.903607    0.0  6493.0  12986.0   \n",
       "index         25973.0  12986.000000    7497.903607    0.0  6493.0  12986.0   \n",
       "time          25973.0  11054.664921  101471.622125  120.0   443.0    656.0   \n",
       "Q30_B_Part_1      0.0           NaN            NaN    NaN     NaN      NaN   \n",
       "Q30_B_Part_2      0.0           NaN            NaN    NaN     NaN      NaN   \n",
       "Q30_B_Part_3      0.0           NaN            NaN    NaN     NaN      NaN   \n",
       "Q30_B_Part_4      0.0           NaN            NaN    NaN     NaN      NaN   \n",
       "Q30_B_Part_5      0.0           NaN            NaN    NaN     NaN      NaN   \n",
       "Q30_B_Part_6      0.0           NaN            NaN    NaN     NaN      NaN   \n",
       "Q30_B_Part_7      0.0           NaN            NaN    NaN     NaN      NaN   \n",
       "Q30_B_OTHER       0.0           NaN            NaN    NaN     NaN      NaN   \n",
       "\n",
       "                  75%        max  \n",
       "Unnamed: 0    19479.0    25972.0  \n",
       "level_0       19479.0    25972.0  \n",
       "index         19479.0    25972.0  \n",
       "time           1038.0  2488653.0  \n",
       "Q30_B_Part_1      NaN        NaN  \n",
       "Q30_B_Part_2      NaN        NaN  \n",
       "Q30_B_Part_3      NaN        NaN  \n",
       "Q30_B_Part_4      NaN        NaN  \n",
       "Q30_B_Part_5      NaN        NaN  \n",
       "Q30_B_Part_6      NaN        NaN  \n",
       "Q30_B_Part_7      NaN        NaN  \n",
       "Q30_B_OTHER       NaN        NaN  "
      ]
     },
     "execution_count": 42,
     "metadata": {},
     "output_type": "execute_result"
    }
   ],
   "source": [
    "archivo_trabajo_copia.describe().T"
   ]
  },
  {
   "cell_type": "markdown",
   "metadata": {},
   "source": [
    ".rename()\n",
    "MiDataframe.rename(columns = {\"nombre-antiguo\": \"nombre-nuevo\"}, inplace = True)"
   ]
  }
 ],
 "metadata": {
  "kernelspec": {
   "display_name": "Python 3.9.7 ('base')",
   "language": "python",
   "name": "python3"
  },
  "language_info": {
   "codemirror_mode": {
    "name": "ipython",
    "version": 3
   },
   "file_extension": ".py",
   "mimetype": "text/x-python",
   "name": "python",
   "nbconvert_exporter": "python",
   "pygments_lexer": "ipython3",
   "version": "3.9.7"
  },
  "orig_nbformat": 4,
  "vscode": {
   "interpreter": {
    "hash": "651c3b7b3f466eb030aa737f279c846be4db9cba49a2f229278cab5e41121ed5"
   }
  }
 },
 "nbformat": 4,
 "nbformat_minor": 2
}
