{
 "cells": [
  {
   "cell_type": "code",
   "execution_count": 26,
   "metadata": {},
   "outputs": [],
   "source": [
    "import pandas as pd\n",
    "import numpy as np\n",
    "import matplotlib.pyplot as plt\n",
    "import seaborn as sns"
   ]
  },
  {
   "cell_type": "code",
   "execution_count": 11,
   "metadata": {},
   "outputs": [
    {
     "data": {
      "text/html": [
       "<div>\n",
       "<style scoped>\n",
       "    .dataframe tbody tr th:only-of-type {\n",
       "        vertical-align: middle;\n",
       "    }\n",
       "\n",
       "    .dataframe tbody tr th {\n",
       "        vertical-align: top;\n",
       "    }\n",
       "\n",
       "    .dataframe thead th {\n",
       "        text-align: right;\n",
       "    }\n",
       "</style>\n",
       "<table border=\"1\" class=\"dataframe\">\n",
       "  <thead>\n",
       "    <tr style=\"text-align: right;\">\n",
       "      <th></th>\n",
       "      <th>Unnamed: 0</th>\n",
       "      <th>indices</th>\n",
       "      <th>edad</th>\n",
       "      <th>genero</th>\n",
       "      <th>pais</th>\n",
       "      <th>formacion_2</th>\n",
       "      <th>puesto_trabajo</th>\n",
       "      <th>años_programando</th>\n",
       "      <th>lenguajes_utilizados</th>\n",
       "      <th>lenguajes_recomendados</th>\n",
       "      <th>...</th>\n",
       "      <th>fuente_conocimiento_reddit</th>\n",
       "      <th>fuente_conocimiento_kaggle</th>\n",
       "      <th>fuente_conocimiento_course</th>\n",
       "      <th>fuente_conocimiento_youtube</th>\n",
       "      <th>fuente_conocimiento_podcast</th>\n",
       "      <th>fuente_conocimiento_blogs</th>\n",
       "      <th>fuente_conocimiento_journal_publicacions</th>\n",
       "      <th>fuente_conocimiento_slack_communities</th>\n",
       "      <th>fuente_conocimiento_none</th>\n",
       "      <th>fuente_conocimiento_otros</th>\n",
       "    </tr>\n",
       "  </thead>\n",
       "  <tbody>\n",
       "    <tr>\n",
       "      <th>0</th>\n",
       "      <td>0</td>\n",
       "      <td>0</td>\n",
       "      <td>50-54</td>\n",
       "      <td>Man</td>\n",
       "      <td>India</td>\n",
       "      <td>Bachelor’s degree</td>\n",
       "      <td>Other</td>\n",
       "      <td>5-10 years</td>\n",
       "      <td>Python, R</td>\n",
       "      <td>Python</td>\n",
       "      <td>...</td>\n",
       "      <td>NaN</td>\n",
       "      <td>Kaggle (notebooks, forums, etc)</td>\n",
       "      <td>NaN</td>\n",
       "      <td>YouTube (Kaggle YouTube, Cloud AI Adventures, ...</td>\n",
       "      <td>Podcasts (Chai Time Data Science, O’Reilly Dat...</td>\n",
       "      <td>Blogs (Towards Data Science, Analytics Vidhya,...</td>\n",
       "      <td>Journal Publications (peer-reviewed journals, ...</td>\n",
       "      <td>NaN</td>\n",
       "      <td>NaN</td>\n",
       "      <td>NaN</td>\n",
       "    </tr>\n",
       "    <tr>\n",
       "      <th>1</th>\n",
       "      <td>1</td>\n",
       "      <td>1</td>\n",
       "      <td>50-54</td>\n",
       "      <td>Man</td>\n",
       "      <td>Indonesia</td>\n",
       "      <td>Master’s degree</td>\n",
       "      <td>Program/Project Manager</td>\n",
       "      <td>20+ years</td>\n",
       "      <td>SQL, C, C++, Java</td>\n",
       "      <td>Python</td>\n",
       "      <td>...</td>\n",
       "      <td>NaN</td>\n",
       "      <td>NaN</td>\n",
       "      <td>NaN</td>\n",
       "      <td>NaN</td>\n",
       "      <td>NaN</td>\n",
       "      <td>NaN</td>\n",
       "      <td>Journal Publications (peer-reviewed journals, ...</td>\n",
       "      <td>NaN</td>\n",
       "      <td>NaN</td>\n",
       "      <td>NaN</td>\n",
       "    </tr>\n",
       "    <tr>\n",
       "      <th>2</th>\n",
       "      <td>2</td>\n",
       "      <td>2</td>\n",
       "      <td>22-24</td>\n",
       "      <td>Man</td>\n",
       "      <td>Pakistan</td>\n",
       "      <td>Master’s degree</td>\n",
       "      <td>Software Engineer</td>\n",
       "      <td>1-3 years</td>\n",
       "      <td>Python, C++, Java</td>\n",
       "      <td>Python</td>\n",
       "      <td>...</td>\n",
       "      <td>NaN</td>\n",
       "      <td>Kaggle (notebooks, forums, etc)</td>\n",
       "      <td>NaN</td>\n",
       "      <td>YouTube (Kaggle YouTube, Cloud AI Adventures, ...</td>\n",
       "      <td>NaN</td>\n",
       "      <td>NaN</td>\n",
       "      <td>NaN</td>\n",
       "      <td>NaN</td>\n",
       "      <td>NaN</td>\n",
       "      <td>NaN</td>\n",
       "    </tr>\n",
       "    <tr>\n",
       "      <th>3</th>\n",
       "      <td>3</td>\n",
       "      <td>3</td>\n",
       "      <td>45-49</td>\n",
       "      <td>Man</td>\n",
       "      <td>Mexico</td>\n",
       "      <td>Doctoral degree</td>\n",
       "      <td>Research Scientist</td>\n",
       "      <td>20+ years</td>\n",
       "      <td>Python</td>\n",
       "      <td>Python</td>\n",
       "      <td>...</td>\n",
       "      <td>NaN</td>\n",
       "      <td>NaN</td>\n",
       "      <td>NaN</td>\n",
       "      <td>YouTube (Kaggle YouTube, Cloud AI Adventures, ...</td>\n",
       "      <td>NaN</td>\n",
       "      <td>Blogs (Towards Data Science, Analytics Vidhya,...</td>\n",
       "      <td>Journal Publications (peer-reviewed journals, ...</td>\n",
       "      <td>NaN</td>\n",
       "      <td>NaN</td>\n",
       "      <td>NaN</td>\n",
       "    </tr>\n",
       "    <tr>\n",
       "      <th>4</th>\n",
       "      <td>4</td>\n",
       "      <td>4</td>\n",
       "      <td>45-49</td>\n",
       "      <td>Man</td>\n",
       "      <td>India</td>\n",
       "      <td>Doctoral degree</td>\n",
       "      <td>Other</td>\n",
       "      <td>&lt; 1 years</td>\n",
       "      <td>Python, C, MATLAB</td>\n",
       "      <td>Python</td>\n",
       "      <td>...</td>\n",
       "      <td>NaN</td>\n",
       "      <td>NaN</td>\n",
       "      <td>NaN</td>\n",
       "      <td>NaN</td>\n",
       "      <td>NaN</td>\n",
       "      <td>NaN</td>\n",
       "      <td>Journal Publications (peer-reviewed journals, ...</td>\n",
       "      <td>NaN</td>\n",
       "      <td>NaN</td>\n",
       "      <td>NaN</td>\n",
       "    </tr>\n",
       "  </tbody>\n",
       "</table>\n",
       "<p>5 rows × 42 columns</p>\n",
       "</div>"
      ],
      "text/plain": [
       "   Unnamed: 0  indices   edad genero       pais        formacion_2  \\\n",
       "0           0        0  50-54    Man      India  Bachelor’s degree   \n",
       "1           1        1  50-54    Man  Indonesia    Master’s degree   \n",
       "2           2        2  22-24    Man   Pakistan    Master’s degree   \n",
       "3           3        3  45-49    Man     Mexico    Doctoral degree   \n",
       "4           4        4  45-49    Man      India    Doctoral degree   \n",
       "\n",
       "            puesto_trabajo años_programando lenguajes_utilizados  \\\n",
       "0                    Other       5-10 years            Python, R   \n",
       "1  Program/Project Manager        20+ years    SQL, C, C++, Java   \n",
       "2        Software Engineer        1-3 years    Python, C++, Java   \n",
       "3       Research Scientist        20+ years               Python   \n",
       "4                    Other        < 1 years    Python, C, MATLAB   \n",
       "\n",
       "  lenguajes_recomendados  ... fuente_conocimiento_reddit  \\\n",
       "0                 Python  ...                        NaN   \n",
       "1                 Python  ...                        NaN   \n",
       "2                 Python  ...                        NaN   \n",
       "3                 Python  ...                        NaN   \n",
       "4                 Python  ...                        NaN   \n",
       "\n",
       "        fuente_conocimiento_kaggle fuente_conocimiento_course  \\\n",
       "0  Kaggle (notebooks, forums, etc)                        NaN   \n",
       "1                              NaN                        NaN   \n",
       "2  Kaggle (notebooks, forums, etc)                        NaN   \n",
       "3                              NaN                        NaN   \n",
       "4                              NaN                        NaN   \n",
       "\n",
       "                         fuente_conocimiento_youtube  \\\n",
       "0  YouTube (Kaggle YouTube, Cloud AI Adventures, ...   \n",
       "1                                                NaN   \n",
       "2  YouTube (Kaggle YouTube, Cloud AI Adventures, ...   \n",
       "3  YouTube (Kaggle YouTube, Cloud AI Adventures, ...   \n",
       "4                                                NaN   \n",
       "\n",
       "                         fuente_conocimiento_podcast  \\\n",
       "0  Podcasts (Chai Time Data Science, O’Reilly Dat...   \n",
       "1                                                NaN   \n",
       "2                                                NaN   \n",
       "3                                                NaN   \n",
       "4                                                NaN   \n",
       "\n",
       "                           fuente_conocimiento_blogs  \\\n",
       "0  Blogs (Towards Data Science, Analytics Vidhya,...   \n",
       "1                                                NaN   \n",
       "2                                                NaN   \n",
       "3  Blogs (Towards Data Science, Analytics Vidhya,...   \n",
       "4                                                NaN   \n",
       "\n",
       "            fuente_conocimiento_journal_publicacions  \\\n",
       "0  Journal Publications (peer-reviewed journals, ...   \n",
       "1  Journal Publications (peer-reviewed journals, ...   \n",
       "2                                                NaN   \n",
       "3  Journal Publications (peer-reviewed journals, ...   \n",
       "4  Journal Publications (peer-reviewed journals, ...   \n",
       "\n",
       "  fuente_conocimiento_slack_communities fuente_conocimiento_none  \\\n",
       "0                                   NaN                      NaN   \n",
       "1                                   NaN                      NaN   \n",
       "2                                   NaN                      NaN   \n",
       "3                                   NaN                      NaN   \n",
       "4                                   NaN                      NaN   \n",
       "\n",
       "  fuente_conocimiento_otros  \n",
       "0                       NaN  \n",
       "1                       NaN  \n",
       "2                       NaN  \n",
       "3                       NaN  \n",
       "4                       NaN  \n",
       "\n",
       "[5 rows x 42 columns]"
      ]
     },
     "execution_count": 11,
     "metadata": {},
     "output_type": "execute_result"
    }
   ],
   "source": [
    "tabla_pequeña = pd.read_csv(\"tabla_pequeña.csv\")\n",
    "tabla_pequeña.head(5)"
   ]
  },
  {
   "cell_type": "code",
   "execution_count": 12,
   "metadata": {},
   "outputs": [
    {
     "data": {
      "text/plain": [
       "Index(['Unnamed: 0', 'indices', 'edad', 'genero', 'pais', 'formacion_2',\n",
       "       'puesto_trabajo', 'años_programando', 'lenguajes_utilizados',\n",
       "       'lenguajes_recomendados', 'herramientas_uso', 'librerias_visualizacion',\n",
       "       'años_usando_machine', 'sector_trabajo_actual', 'tamaño_empresa',\n",
       "       'personas_dpt_data', 'salario_anual', 'inversion_dpt_machine_5años',\n",
       "       'plataforma_coursera', 'plataforma_edx',\n",
       "       'plataforma_kaggle_learn_courses', 'plataforma_data_camp',\n",
       "       'plataforma_fast_ai', 'plataforma_udacity', 'plataforma_udemy',\n",
       "       'plataforma_linkedin_learning',\n",
       "       'plataforma_cloud_certification_programs',\n",
       "       'plataforma_university_courses', 'plataforma_none', 'plataforma_otros',\n",
       "       'fuente_conocimiento_twitter', 'fuente_conocimiento_email',\n",
       "       'fuente_conocimiento_reddit', 'fuente_conocimiento_kaggle',\n",
       "       'fuente_conocimiento_course', 'fuente_conocimiento_youtube',\n",
       "       'fuente_conocimiento_podcast', 'fuente_conocimiento_blogs',\n",
       "       'fuente_conocimiento_journal_publicacions',\n",
       "       'fuente_conocimiento_slack_communities', 'fuente_conocimiento_none',\n",
       "       'fuente_conocimiento_otros'],\n",
       "      dtype='object')"
      ]
     },
     "execution_count": 12,
     "metadata": {},
     "output_type": "execute_result"
    }
   ],
   "source": [
    "tabla_pequeña.columns"
   ]
  },
  {
   "attachments": {},
   "cell_type": "markdown",
   "metadata": {},
   "source": [
    "Salario medio en función de: Experiencia/ genero/ pais/ sector (q25,q2, q1, q3,q6)"
   ]
  },
  {
   "cell_type": "code",
   "execution_count": 21,
   "metadata": {},
   "outputs": [
    {
     "data": {
      "text/html": [
       "<div>\n",
       "<style scoped>\n",
       "    .dataframe tbody tr th:only-of-type {\n",
       "        vertical-align: middle;\n",
       "    }\n",
       "\n",
       "    .dataframe tbody tr th {\n",
       "        vertical-align: top;\n",
       "    }\n",
       "\n",
       "    .dataframe thead th {\n",
       "        text-align: right;\n",
       "    }\n",
       "</style>\n",
       "<table border=\"1\" class=\"dataframe\">\n",
       "  <thead>\n",
       "    <tr style=\"text-align: right;\">\n",
       "      <th></th>\n",
       "      <th>edad</th>\n",
       "      <th>genero</th>\n",
       "      <th>pais</th>\n",
       "      <th>años_programando</th>\n",
       "      <th>salario_anual</th>\n",
       "    </tr>\n",
       "  </thead>\n",
       "  <tbody>\n",
       "    <tr>\n",
       "      <th>0</th>\n",
       "      <td>50-54</td>\n",
       "      <td>Man</td>\n",
       "      <td>India</td>\n",
       "      <td>5-10 years</td>\n",
       "      <td>25,000-29,999</td>\n",
       "    </tr>\n",
       "    <tr>\n",
       "      <th>1</th>\n",
       "      <td>50-54</td>\n",
       "      <td>Man</td>\n",
       "      <td>Indonesia</td>\n",
       "      <td>20+ years</td>\n",
       "      <td>60,000-69,999</td>\n",
       "    </tr>\n",
       "    <tr>\n",
       "      <th>2</th>\n",
       "      <td>22-24</td>\n",
       "      <td>Man</td>\n",
       "      <td>Pakistan</td>\n",
       "      <td>1-3 years</td>\n",
       "      <td>$0-999</td>\n",
       "    </tr>\n",
       "    <tr>\n",
       "      <th>3</th>\n",
       "      <td>45-49</td>\n",
       "      <td>Man</td>\n",
       "      <td>Mexico</td>\n",
       "      <td>20+ years</td>\n",
       "      <td>30,000-39,999</td>\n",
       "    </tr>\n",
       "    <tr>\n",
       "      <th>4</th>\n",
       "      <td>45-49</td>\n",
       "      <td>Man</td>\n",
       "      <td>India</td>\n",
       "      <td>&lt; 1 years</td>\n",
       "      <td>30,000-39,999</td>\n",
       "    </tr>\n",
       "  </tbody>\n",
       "</table>\n",
       "</div>"
      ],
      "text/plain": [
       "    edad genero       pais años_programando  salario_anual\n",
       "0  50-54    Man      India       5-10 years  25,000-29,999\n",
       "1  50-54    Man  Indonesia        20+ years  60,000-69,999\n",
       "2  22-24    Man   Pakistan        1-3 years         $0-999\n",
       "3  45-49    Man     Mexico        20+ years  30,000-39,999\n",
       "4  45-49    Man      India        < 1 years  30,000-39,999"
      ]
     },
     "execution_count": 21,
     "metadata": {},
     "output_type": "execute_result"
    }
   ],
   "source": [
    "dfp1 = tabla_pequeña[[\"edad\", \"genero\", \"pais\", \"años_programando\", \"salario_anual\"]]\n",
    "dfp1.head(5)"
   ]
  },
  {
   "cell_type": "code",
   "execution_count": 43,
   "metadata": {},
   "outputs": [
    {
     "ename": "TypeError",
     "evalue": "Neither the `x` nor `y` variable appears to be numeric.",
     "output_type": "error",
     "traceback": [
      "\u001b[0;31m---------------------------------------------------------------------------\u001b[0m",
      "\u001b[0;31mTypeError\u001b[0m                                 Traceback (most recent call last)",
      "Cell \u001b[0;32mIn [43], line 3\u001b[0m\n\u001b[1;32m      1\u001b[0m plt\u001b[39m.\u001b[39mfigure(figsize\u001b[39m=\u001b[39m(\u001b[39m20\u001b[39m,\u001b[39m20\u001b[39m))\n\u001b[0;32m----> 3\u001b[0m fig \u001b[39m=\u001b[39m sns\u001b[39m.\u001b[39;49mbarplot(x\u001b[39m=\u001b[39;49m\u001b[39m\"\u001b[39;49m\u001b[39msalario_anual\u001b[39;49m\u001b[39m\"\u001b[39;49m, y\u001b[39m=\u001b[39;49m\u001b[39m\"\u001b[39;49m\u001b[39mgenero\u001b[39;49m\u001b[39m\"\u001b[39;49m, data\u001b[39m=\u001b[39;49mdfp1)\n\u001b[1;32m      5\u001b[0m plt\u001b[39m.\u001b[39mshow()\n",
      "File \u001b[0;32m~/anaconda3/lib/python3.9/site-packages/seaborn/_decorators.py:46\u001b[0m, in \u001b[0;36m_deprecate_positional_args.<locals>.inner_f\u001b[0;34m(*args, **kwargs)\u001b[0m\n\u001b[1;32m     36\u001b[0m     warnings\u001b[39m.\u001b[39mwarn(\n\u001b[1;32m     37\u001b[0m         \u001b[39m\"\u001b[39m\u001b[39mPass the following variable\u001b[39m\u001b[39m{}\u001b[39;00m\u001b[39m as \u001b[39m\u001b[39m{}\u001b[39;00m\u001b[39mkeyword arg\u001b[39m\u001b[39m{}\u001b[39;00m\u001b[39m: \u001b[39m\u001b[39m{}\u001b[39;00m\u001b[39m. \u001b[39m\u001b[39m\"\u001b[39m\n\u001b[1;32m     38\u001b[0m         \u001b[39m\"\u001b[39m\u001b[39mFrom version 0.12, the only valid positional argument \u001b[39m\u001b[39m\"\u001b[39m\n\u001b[0;32m   (...)\u001b[0m\n\u001b[1;32m     43\u001b[0m         \u001b[39mFutureWarning\u001b[39;00m\n\u001b[1;32m     44\u001b[0m     )\n\u001b[1;32m     45\u001b[0m kwargs\u001b[39m.\u001b[39mupdate({k: arg \u001b[39mfor\u001b[39;00m k, arg \u001b[39min\u001b[39;00m \u001b[39mzip\u001b[39m(sig\u001b[39m.\u001b[39mparameters, args)})\n\u001b[0;32m---> 46\u001b[0m \u001b[39mreturn\u001b[39;00m f(\u001b[39m*\u001b[39;49m\u001b[39m*\u001b[39;49mkwargs)\n",
      "File \u001b[0;32m~/anaconda3/lib/python3.9/site-packages/seaborn/categorical.py:3182\u001b[0m, in \u001b[0;36mbarplot\u001b[0;34m(x, y, hue, data, order, hue_order, estimator, ci, n_boot, units, seed, orient, color, palette, saturation, errcolor, errwidth, capsize, dodge, ax, **kwargs)\u001b[0m\n\u001b[1;32m   3169\u001b[0m \u001b[39m@_deprecate_positional_args\u001b[39m\n\u001b[1;32m   3170\u001b[0m \u001b[39mdef\u001b[39;00m \u001b[39mbarplot\u001b[39m(\n\u001b[1;32m   3171\u001b[0m     \u001b[39m*\u001b[39m,\n\u001b[0;32m   (...)\u001b[0m\n\u001b[1;32m   3179\u001b[0m     \u001b[39m*\u001b[39m\u001b[39m*\u001b[39mkwargs,\n\u001b[1;32m   3180\u001b[0m ):\n\u001b[0;32m-> 3182\u001b[0m     plotter \u001b[39m=\u001b[39m _BarPlotter(x, y, hue, data, order, hue_order,\n\u001b[1;32m   3183\u001b[0m                           estimator, ci, n_boot, units, seed,\n\u001b[1;32m   3184\u001b[0m                           orient, color, palette, saturation,\n\u001b[1;32m   3185\u001b[0m                           errcolor, errwidth, capsize, dodge)\n\u001b[1;32m   3187\u001b[0m     \u001b[39mif\u001b[39;00m ax \u001b[39mis\u001b[39;00m \u001b[39mNone\u001b[39;00m:\n\u001b[1;32m   3188\u001b[0m         ax \u001b[39m=\u001b[39m plt\u001b[39m.\u001b[39mgca()\n",
      "File \u001b[0;32m~/anaconda3/lib/python3.9/site-packages/seaborn/categorical.py:1584\u001b[0m, in \u001b[0;36m_BarPlotter.__init__\u001b[0;34m(self, x, y, hue, data, order, hue_order, estimator, ci, n_boot, units, seed, orient, color, palette, saturation, errcolor, errwidth, capsize, dodge)\u001b[0m\n\u001b[1;32m   1579\u001b[0m \u001b[39mdef\u001b[39;00m \u001b[39m__init__\u001b[39m(\u001b[39mself\u001b[39m, x, y, hue, data, order, hue_order,\n\u001b[1;32m   1580\u001b[0m              estimator, ci, n_boot, units, seed,\n\u001b[1;32m   1581\u001b[0m              orient, color, palette, saturation, errcolor,\n\u001b[1;32m   1582\u001b[0m              errwidth, capsize, dodge):\n\u001b[1;32m   1583\u001b[0m     \u001b[39m\"\"\"Initialize the plotter.\"\"\"\u001b[39;00m\n\u001b[0;32m-> 1584\u001b[0m     \u001b[39mself\u001b[39;49m\u001b[39m.\u001b[39;49mestablish_variables(x, y, hue, data, orient,\n\u001b[1;32m   1585\u001b[0m                              order, hue_order, units)\n\u001b[1;32m   1586\u001b[0m     \u001b[39mself\u001b[39m\u001b[39m.\u001b[39mestablish_colors(color, palette, saturation)\n\u001b[1;32m   1587\u001b[0m     \u001b[39mself\u001b[39m\u001b[39m.\u001b[39mestimate_statistic(estimator, ci, n_boot, seed)\n",
      "File \u001b[0;32m~/anaconda3/lib/python3.9/site-packages/seaborn/categorical.py:156\u001b[0m, in \u001b[0;36m_CategoricalPlotter.establish_variables\u001b[0;34m(self, x, y, hue, data, orient, order, hue_order, units)\u001b[0m\n\u001b[1;32m    153\u001b[0m         \u001b[39mraise\u001b[39;00m \u001b[39mValueError\u001b[39;00m(err)\n\u001b[1;32m    155\u001b[0m \u001b[39m# Figure out the plotting orientation\u001b[39;00m\n\u001b[0;32m--> 156\u001b[0m orient \u001b[39m=\u001b[39m infer_orient(\n\u001b[1;32m    157\u001b[0m     x, y, orient, require_numeric\u001b[39m=\u001b[39;49m\u001b[39mself\u001b[39;49m\u001b[39m.\u001b[39;49mrequire_numeric\n\u001b[1;32m    158\u001b[0m )\n\u001b[1;32m    160\u001b[0m \u001b[39m# Option 2a:\u001b[39;00m\n\u001b[1;32m    161\u001b[0m \u001b[39m# We are plotting a single set of data\u001b[39;00m\n\u001b[1;32m    162\u001b[0m \u001b[39m# ------------------------------------\u001b[39;00m\n\u001b[1;32m    163\u001b[0m \u001b[39mif\u001b[39;00m x \u001b[39mis\u001b[39;00m \u001b[39mNone\u001b[39;00m \u001b[39mor\u001b[39;00m y \u001b[39mis\u001b[39;00m \u001b[39mNone\u001b[39;00m:\n\u001b[1;32m    164\u001b[0m \n\u001b[1;32m    165\u001b[0m     \u001b[39m# Determine where the data are\u001b[39;00m\n",
      "File \u001b[0;32m~/anaconda3/lib/python3.9/site-packages/seaborn/_core.py:1352\u001b[0m, in \u001b[0;36minfer_orient\u001b[0;34m(x, y, orient, require_numeric)\u001b[0m\n\u001b[1;32m   1350\u001b[0m \u001b[39melif\u001b[39;00m require_numeric \u001b[39mand\u001b[39;00m \u001b[39m\"\u001b[39m\u001b[39mnumeric\u001b[39m\u001b[39m\"\u001b[39m \u001b[39mnot\u001b[39;00m \u001b[39min\u001b[39;00m (x_type, y_type):\n\u001b[1;32m   1351\u001b[0m     err \u001b[39m=\u001b[39m \u001b[39m\"\u001b[39m\u001b[39mNeither the `x` nor `y` variable appears to be numeric.\u001b[39m\u001b[39m\"\u001b[39m\n\u001b[0;32m-> 1352\u001b[0m     \u001b[39mraise\u001b[39;00m \u001b[39mTypeError\u001b[39;00m(err)\n\u001b[1;32m   1354\u001b[0m \u001b[39melse\u001b[39;00m:\n\u001b[1;32m   1355\u001b[0m     \u001b[39mreturn\u001b[39;00m \u001b[39m\"\u001b[39m\u001b[39mv\u001b[39m\u001b[39m\"\u001b[39m\n",
      "\u001b[0;31mTypeError\u001b[0m: Neither the `x` nor `y` variable appears to be numeric."
     ]
    },
    {
     "data": {
      "text/plain": [
       "<Figure size 2000x2000 with 0 Axes>"
      ]
     },
     "metadata": {},
     "output_type": "display_data"
    }
   ],
   "source": [
    "plt.figure(figsize=(20,20))\n",
    "\n",
    "fig = sns.barplot(x=\"salario_anual\", y=\"genero\", data=dfp1)\n",
    "\n",
    "plt.show()"
   ]
  },
  {
   "cell_type": "code",
   "execution_count": 22,
   "metadata": {},
   "outputs": [
    {
     "data": {
      "text/plain": [
       "array(['25,000-29,999', '60,000-69,999', '$0-999', '30,000-39,999', nan,\n",
       "       '15,000-19,999', '70,000-79,999', '2,000-2,999', '10,000-14,999',\n",
       "       '5,000-7,499', '20,000-24,999', '1,000-1,999', '100,000-124,999',\n",
       "       '7,500-9,999', '4,000-4,999', '40,000-49,999', '50,000-59,999',\n",
       "       '3,000-3,999', '300,000-499,999', '200,000-249,999',\n",
       "       '125,000-149,999', '250,000-299,999', '80,000-89,999',\n",
       "       '90,000-99,999', '150,000-199,999', '>$1,000,000',\n",
       "       '$500,000-999,999'], dtype=object)"
      ]
     },
     "execution_count": 22,
     "metadata": {},
     "output_type": "execute_result"
    }
   ],
   "source": [
    "dfp1[\"salario_anual\"].unique()"
   ]
  },
  {
   "cell_type": "code",
   "execution_count": 25,
   "metadata": {},
   "outputs": [
    {
     "data": {
      "text/plain": [
       "25-29    4931\n",
       "18-21    4901\n",
       "22-24    4694\n",
       "30-34    3441\n",
       "35-39    2504\n",
       "40-44    1890\n",
       "45-49    1375\n",
       "50-54     964\n",
       "55-59     592\n",
       "60-69     553\n",
       "70+       128\n",
       "Name: edad, dtype: int64"
      ]
     },
     "execution_count": 25,
     "metadata": {},
     "output_type": "execute_result"
    }
   ],
   "source": [
    "dfp1[\"edad\"].value_counts()"
   ]
  },
  {
   "cell_type": "code",
   "execution_count": 23,
   "metadata": {},
   "outputs": [
    {
     "data": {
      "text/plain": [
       "$0-999              3369\n",
       "1,000-1,999          969\n",
       "10,000-14,999        950\n",
       "30,000-39,999        741\n",
       "100,000-124,999      725\n",
       "5,000-7,499          699\n",
       "50,000-59,999        697\n",
       "40,000-49,999        688\n",
       "20,000-24,999        587\n",
       "2,000-2,999          575\n",
       "15,000-19,999        573\n",
       "7,500-9,999          552\n",
       "60,000-69,999        551\n",
       "25,000-29,999        470\n",
       "70,000-79,999        464\n",
       "4,000-4,999          456\n",
       "150,000-199,999      392\n",
       "80,000-89,999        391\n",
       "3,000-3,999          380\n",
       "125,000-149,999      379\n",
       "90,000-99,999        350\n",
       "200,000-249,999      177\n",
       "300,000-499,999       91\n",
       "250,000-299,999       75\n",
       ">$1,000,000           58\n",
       "$500,000-999,999      32\n",
       "Name: salario_anual, dtype: int64"
      ]
     },
     "execution_count": 23,
     "metadata": {},
     "output_type": "execute_result"
    }
   ],
   "source": [
    "dfp1[\"salario_anual\"].value_counts()"
   ]
  },
  {
   "cell_type": "code",
   "execution_count": 24,
   "metadata": {},
   "outputs": [
    {
     "name": "stdout",
     "output_type": "stream",
     "text": [
      "<class 'pandas.core.frame.DataFrame'>\n",
      "RangeIndex: 25973 entries, 0 to 25972\n",
      "Data columns (total 5 columns):\n",
      " #   Column            Non-Null Count  Dtype \n",
      "---  ------            --------------  ----- \n",
      " 0   edad              25973 non-null  object\n",
      " 1   genero            25973 non-null  object\n",
      " 2   pais              25973 non-null  object\n",
      " 3   años_programando  25973 non-null  object\n",
      " 4   salario_anual     15391 non-null  object\n",
      "dtypes: object(5)\n",
      "memory usage: 1014.7+ KB\n"
     ]
    }
   ],
   "source": [
    "dfp1.info()"
   ]
  }
 ],
 "metadata": {
  "kernelspec": {
   "display_name": "base",
   "language": "python",
   "name": "python3"
  },
  "language_info": {
   "codemirror_mode": {
    "name": "ipython",
    "version": 3
   },
   "file_extension": ".py",
   "mimetype": "text/x-python",
   "name": "python",
   "nbconvert_exporter": "python",
   "pygments_lexer": "ipython3",
   "version": "3.9.7"
  },
  "orig_nbformat": 4,
  "vscode": {
   "interpreter": {
    "hash": "6e8aefa1bb798882dbdb84db5119449300b1df017c6fd8f01a2c188a17dff6eb"
   }
  }
 },
 "nbformat": 4,
 "nbformat_minor": 2
}
